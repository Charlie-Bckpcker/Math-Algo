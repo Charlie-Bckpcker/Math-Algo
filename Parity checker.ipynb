{
 "cells": [
  {
   "cell_type": "markdown",
   "metadata": {},
   "source": [
    "$Def: \\\\Even\\ number = \\{ 2k:k\\in \\mathbb {Z} \\} \\\\ Odd\\ number = \\{ 2k+1:k\\in \\mathbb {Z} \\}$"
   ]
  },
  {
   "cell_type": "code",
   "execution_count": null,
   "metadata": {},
   "outputs": [],
   "source": [
    "n = int(input(\"Enter a integer: \"))\n",
    "if (n % 2) == 0:\n",
    "   print(\"{0} is Even\".format(n))\n",
    "else:\n",
    "   print(\"{0} is Odd\".format(n)) "
   ]
  }
 ],
 "metadata": {
  "kernelspec": {
   "display_name": "Python 3",
   "language": "python",
   "name": "python3"
  },
  "language_info": {
   "codemirror_mode": {
    "name": "ipython",
    "version": 3
   },
   "file_extension": ".py",
   "mimetype": "text/x-python",
   "name": "python",
   "nbconvert_exporter": "python",
   "pygments_lexer": "ipython3",
   "version": "3.7.3"
  }
 },
 "nbformat": 4,
 "nbformat_minor": 2
}
