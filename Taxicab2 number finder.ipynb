{
 "cells": [
  {
   "cell_type": "markdown",
   "metadata": {},
   "source": [
    "### Taxicab ($\\mathbb{T{_n}}$)\n",
    "#### $ \\mathbb{T{_n}} := $ The smallest integer that can be expressed as a sum of two positive integer cubes in n distinct ways.\n",
    "#### Taxicab2 ($\\mathbb{T{_2}}) := $ The first n integer that can be expressed as a sum of two positive integer cubes in 2 distinct ways."
   ]
  },
  {
   "cell_type": "code",
   "execution_count": null,
   "metadata": {},
   "outputs": [],
   "source": [
    "n = int(input(\"Enter a positive integer:\"))\n",
    "\n",
    "def Taxicab2(n):  \n",
    "    a, b = 1, 0\n",
    "    while (b < n):  \n",
    "        int_b = 0\n",
    "        for x in range(1, int(pow(a, 1 / 3)) + 1):   \n",
    "            for y in range(x, int(pow(a, 1 / 3)) + 1):  \n",
    "                if (x ** 3 + y ** 3 == a): \n",
    "                    int_b += 1 \n",
    "        if (int_b == 2):  \n",
    "            b += 1\n",
    "            print(b, \" \", a,)  \n",
    "        a += 1\n",
    "\n",
    "Taxicab2(n)"
   ]
  }
 ],
 "metadata": {
  "kernelspec": {
   "display_name": "Python 3",
   "language": "python",
   "name": "python3"
  },
  "language_info": {
   "codemirror_mode": {
    "name": "ipython",
    "version": 3
   },
   "file_extension": ".py",
   "mimetype": "text/x-python",
   "name": "python",
   "nbconvert_exporter": "python",
   "pygments_lexer": "ipython3",
   "version": "3.7.3"
  }
 },
 "nbformat": 4,
 "nbformat_minor": 2
}
