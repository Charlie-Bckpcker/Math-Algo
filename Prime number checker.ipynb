{
 "cells": [
  {
   "cell_type": "markdown",
   "metadata": {},
   "source": [
    "$Prime\\ number\\colon= \\mathbb{P} : \\{x\\in \\mathbb{N} \\mid  x \\ mod\\  y = 0 \\Rightarrow y=1 \\ \\vee \\  y=x,x>1,y\\in \\mathbb{N}\\}$"
   ]
  },
  {
   "cell_type": "code",
   "execution_count": null,
   "metadata": {},
   "outputs": [],
   "source": [
    "n = int(input(\"Enter a integer:\"))\n",
    "\n",
    "if n > 1:\n",
    "    for a in range(2,n):\n",
    "        if n % a == 0:\n",
    "            print(n, \"is not prime\")\n",
    "            break    \n",
    "    else:\n",
    "        print(n, \"is prime\")\n",
    "else:\n",
    "    print(n, \"is not prime\")\n"
   ]
  }
 ],
 "metadata": {
  "kernelspec": {
   "display_name": "Python 3",
   "language": "python",
   "name": "python3"
  },
  "language_info": {
   "codemirror_mode": {
    "name": "ipython",
    "version": 3
   },
   "file_extension": ".py",
   "mimetype": "text/x-python",
   "name": "python",
   "nbconvert_exporter": "python",
   "pygments_lexer": "ipython3",
   "version": "3.7.3"
  }
 },
 "nbformat": 4,
 "nbformat_minor": 2
}
